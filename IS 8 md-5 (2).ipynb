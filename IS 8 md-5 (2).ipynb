{
 "cells": [
  {
   "cell_type": "code",
   "execution_count": 1,
   "id": "d0dc0b79-bee0-49af-94c8-1a903e73ea27",
   "metadata": {},
   "outputs": [
    {
     "name": "stdout",
     "output_type": "stream",
     "text": [
      "Number of bits in plain text: 264\n",
      "Number of bits in MD5 block: 512\n",
      "MD5 Block:\n",
      "01010110010100000100101101000010010010010100010101010100010111110100001001000001010100100100000101001101010000010101010001001001010111110101000001010101010011100100010101011111010011010100000101001000010000010101001001000001010100110100100001010100010100100100000110000000000000000000000000000000000000000000000000000000000000000000000000000000000000000000000000000000000000000000000000000000000000000000000000000000000000000000000000000000000000000000000000000000000000000000000000000000000000000000000100001000\n"
     ]
    }
   ],
   "source": [
    "def prepare_md5_block(plain_text):\n",
    "    # Convert plain text to bits\n",
    "    bits = ''.join(format(ord(c), '08b') for c in plain_text)\n",
    "\n",
    "    # Print out the number of bits in the plain text\n",
    "    print(\"Number of bits in plain text:\", len(bits))\n",
    "\n",
    "    # Calculate the length of the original message in bits\n",
    "    message_length = len(bits)\n",
    "\n",
    "    # Padding to make the length 448 mod 512\n",
    "    bits += '1'\n",
    "    while len(bits) % 512 != 448:\n",
    "        bits += '0'\n",
    "\n",
    "    # Append the length of the original message as a 64-bit binary string\n",
    "    length_bits = format(message_length, '064b')\n",
    "    bits += length_bits\n",
    "\n",
    "    # Print out the number of bits in the MD5 block\n",
    "    print(\"Number of bits in MD5 block:\", len(bits))\n",
    "\n",
    "    return bits\n",
    "\n",
    "plain_text = \"VPKBIET_BARAMATI_PUNE_MAHARASHTRA\"\n",
    "md5_block = prepare_md5_block(plain_text)\n",
    "print(\"MD5 Block:\")\n",
    "print(md5_block)\n"
   ]
  },
  {
   "cell_type": "code",
   "execution_count": 2,
   "id": "9b241d19-3414-4d70-8985-f8617e4ea4e2",
   "metadata": {},
   "outputs": [
    {
     "name": "stdin",
     "output_type": "stream",
     "text": [
      "Enter a message:  sfsfsf\n"
     ]
    },
    {
     "name": "stdout",
     "output_type": "stream",
     "text": [
      "Number of bits in plain text: 48\n",
      "MD5 Block:\n",
      "01110011011001100111001101100110011100110110011010000000000000000000000000000000000000000000000000000000000000000000000000000000000000000000000000000000000000000000000000000000000000000000000000000000000000000000000000000000000000000000000000000000000000000000000000000000000000000000000000000000000000000000000000000000000000000000000000000000000000000000000000000000000000000000000000000000000000000000000000000000000000000000000000000000000000000000000000000000000000000000000000000000000000000000000000110000\n",
      "Number of bits in MD5 block: 512\n"
     ]
    }
   ],
   "source": [
    "def prepare_md5_block(plain_text):\n",
    "    # Convert plain text to bits\n",
    "    bits = ''.join(format(ord(c), '08b') for c in plain_text)\n",
    "\n",
    "     # Print out the number of bits in the plain text\n",
    "    print(\"Number of bits in plain text:\", len(bits))\n",
    "\n",
    "    # Calculate the length of the original message in bits\n",
    "    message_length = len(bits)\n",
    "\n",
    "    # Padding to make the length 448 mod 512\n",
    "    bits += '1'\n",
    "    while len(bits) % 512 != 448:\n",
    "        bits += '0'\n",
    "\n",
    "    # Append the length of the original message as a 64-bit binary string\n",
    "    length_bits = format(message_length, '064b')\n",
    "    bits += length_bits\n",
    "\n",
    "    return bits\n",
    "\n",
    "# Take input from the user\n",
    "plain_text = input(\"Enter a message: \")\n",
    "md5_block = prepare_md5_block(plain_text)\n",
    "print(\"MD5 Block:\")\n",
    "print(md5_block)\n",
    "print(\"Number of bits in MD5 block:\", len(md5_block))\n"
   ]
  },
  {
   "cell_type": "code",
   "execution_count": null,
   "id": "754c8870-b84d-480b-940d-748eae8b1411",
   "metadata": {},
   "outputs": [],
   "source": []
  }
 ],
 "metadata": {
  "kernelspec": {
   "display_name": "Python 3 (ipykernel)",
   "language": "python",
   "name": "python3"
  },
  "language_info": {
   "codemirror_mode": {
    "name": "ipython",
    "version": 3
   },
   "file_extension": ".py",
   "mimetype": "text/x-python",
   "name": "python",
   "nbconvert_exporter": "python",
   "pygments_lexer": "ipython3",
   "version": "3.11.7"
  }
 },
 "nbformat": 4,
 "nbformat_minor": 5
}
