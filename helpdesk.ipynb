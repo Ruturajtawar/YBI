{
 "cells": [
  {
   "cell_type": "code",
   "execution_count": 3,
   "id": "0f7fd763-3b1e-4c18-b8cf-befd218fde2e",
   "metadata": {},
   "outputs": [
    {
     "name": "stdout",
     "output_type": "stream",
     "text": [
      "How can I help you?\n"
     ]
    },
    {
     "name": "stdin",
     "output_type": "stream",
     "text": [
      "Enter your query (type 'exit' to end):  exit\n"
     ]
    },
    {
     "name": "stdout",
     "output_type": "stream",
     "text": [
      "See you later\n"
     ]
    }
   ],
   "source": [
    "# Define the initial help desk dictionary\n",
    "desk_dict = {\n",
    "    \"Problem in Book tickets\": \"Something Wrong Information\",\n",
    "    \"Login Problem\": \"Retry the login Process, Check all details\",\n",
    "    \"Invalid Email\": \"It's a wrong email, Please verify the email\",\n",
    "    \"Schedule Time\": \"Select the train Number\"\n",
    "}\n",
    "\n",
    "def help(user_input):\n",
    "    if user_input in desk_dict:\n",
    "        return desk_dict[user_input]\n",
    "    else:\n",
    "        return \"I don't know the solution\"\n",
    "\n",
    "while True:\n",
    "    print(\"How can I help you?\")\n",
    "    user_input = input(\"Enter your query (type 'exit' to end): \")\n",
    "    if user_input.lower() == \"exit\":\n",
    "        print(\"See you later\")\n",
    "        break\n",
    "    else:\n",
    "        response = help(user_input)\n",
    "        print(response)"
   ]
  },
  {
   "cell_type": "code",
   "execution_count": null,
   "id": "50aaed6f-fa59-4551-8028-62d6d9d5b316",
   "metadata": {},
   "outputs": [],
   "source": []
  }
 ],
 "metadata": {
  "kernelspec": {
   "display_name": "Python 3 (ipykernel)",
   "language": "python",
   "name": "python3"
  },
  "language_info": {
   "codemirror_mode": {
    "name": "ipython",
    "version": 3
   },
   "file_extension": ".py",
   "mimetype": "text/x-python",
   "name": "python",
   "nbconvert_exporter": "python",
   "pygments_lexer": "ipython3",
   "version": "3.11.7"
  }
 },
 "nbformat": 4,
 "nbformat_minor": 5
}
