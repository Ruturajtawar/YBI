{
 "cells": [
  {
   "cell_type": "code",
   "execution_count": 1,
   "id": "bc0f73c4-0338-4449-be99-09a8eb3930f5",
   "metadata": {},
   "outputs": [
    {
     "name": "stdin",
     "output_type": "stream",
     "text": [
      "Enter a string:  SDAD\n"
     ]
    },
    {
     "name": "stdout",
     "output_type": "stream",
     "text": [
      "Character List: S D A D\n",
      "Integer List: 83 68 65 68\n",
      "New Integer List: 44 59 62 59\n",
      "New Character List: , ; > ;\n",
      "Result String: ,;>;\n"
     ]
    }
   ],
   "source": [
    "#1 Take input from the user\n",
    "my_string = input(\"Enter a string: \")\n",
    "\n",
    "#2 Create a list of characters\n",
    "mychar = list(my_string)\n",
    "\n",
    "print(\"Character List:\", \" \".join(mychar))\n",
    "\n",
    "#3 Create a list of ASCII values\n",
    "mylist = [ord(char) for char in mychar]\n",
    "\n",
    "print(\"Integer List:\", \" \".join(map(str, mylist)))\n",
    "\n",
    "#4 XOR each element with 127 and create a new list of integers\n",
    "mylistnew = [num ^ 127 for num in mylist]\n",
    "\n",
    "print(\"New Integer List:\", \" \".join(map(str, mylistnew)))\n",
    "\n",
    "#5 Convert the new list of integers to a list of characters\n",
    "mycharnew = [chr(num) for num in mylistnew]\n",
    "\n",
    "print(\"New Character List:\", \" \".join(mycharnew))\n",
    "\n",
    "#6 Convert the new list of characters to a string\n",
    "result_string = \"\".join(mycharnew)\n",
    "print(\"Result String:\", result_string)\n"
   ]
  },
  {
   "cell_type": "code",
   "execution_count": null,
   "id": "f49f460f-63d9-4235-bec7-272cb24e417a",
   "metadata": {},
   "outputs": [],
   "source": []
  }
 ],
 "metadata": {
  "kernelspec": {
   "display_name": "Python 3 (ipykernel)",
   "language": "python",
   "name": "python3"
  },
  "language_info": {
   "codemirror_mode": {
    "name": "ipython",
    "version": 3
   },
   "file_extension": ".py",
   "mimetype": "text/x-python",
   "name": "python",
   "nbconvert_exporter": "python",
   "pygments_lexer": "ipython3",
   "version": "3.11.7"
  }
 },
 "nbformat": 4,
 "nbformat_minor": 5
}
