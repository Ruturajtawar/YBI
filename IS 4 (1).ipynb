{
 "cells": [
  {
   "cell_type": "code",
   "execution_count": 1,
   "id": "8b7c54da-1e5c-4efd-a4a9-ba0a2a2f7cf6",
   "metadata": {},
   "outputs": [
    {
     "name": "stdout",
     "output_type": "stream",
     "text": [
      "Cipher Text: 10001010\n"
     ]
    }
   ],
   "source": [
    "def permute(original, permutation):\n",
    "    permuted = ''\n",
    "    for index in permutation:\n",
    "        permuted += original[index - 1]\n",
    "    return permuted\n",
    "\n",
    "def xor(bin1, bin2):\n",
    "    result = ''\n",
    "    for i in range(len(bin1)):\n",
    "        result += str(int(bin1[i]) ^ int(bin2[i]))\n",
    "    return result\n",
    "\n",
    "def split_half(bits):\n",
    "    return bits[:4], bits[4:]\n",
    "\n",
    "def sbox_lookup(bits, sbox):\n",
    "    row = int(bits[0] + bits[3], 2)\n",
    "    col = int(bits[1:3], 2)\n",
    "    return format(sbox[row][col], '02b')\n",
    "\n",
    "def f_function(bits, key):\n",
    "    expansion_permutation = [4, 1, 2, 3, 2, 3, 4, 1]\n",
    "    sbox1 = [\n",
    "        [1, 0, 3, 2],\n",
    "        [3, 2, 1, 0],\n",
    "        [0, 2, 1, 3],\n",
    "        [3, 1, 3, 2]\n",
    "    ]\n",
    "    sbox2 = [\n",
    "        [0, 1, 2, 3],\n",
    "        [2, 0, 1, 3],\n",
    "        [3, 0, 1, 0],\n",
    "        [2, 1, 0, 3]\n",
    "    ]\n",
    "    \n",
    "    expanded = permute(bits, expansion_permutation)\n",
    "    xor_result = xor(expanded, key)\n",
    "    \n",
    "    left, right = split_half(xor_result)\n",
    "    sbox_output1 = sbox_lookup(left, sbox1)\n",
    "    sbox_output2 = sbox_lookup(right, sbox2)\n",
    "    \n",
    "    return permute(sbox_output1 + sbox_output2, [2, 4, 3, 1])\n",
    "\n",
    "def encrypt(plaintext, k1, k2):\n",
    "    initial_permutation = [2, 6, 3, 1, 4, 8, 5, 7]\n",
    "    final_permutation = [4, 1, 3, 5, 7, 2, 8, 6]\n",
    "    \n",
    "    permuted_plaintext = permute(plaintext, initial_permutation)\n",
    "    \n",
    "    fk1 = f_function(permuted_plaintext[4:], k1)\n",
    "    xor_result = xor(permuted_plaintext[:4], fk1)\n",
    "    swapped = permuted_plaintext[4:] + xor_result\n",
    "    \n",
    "    fk2 = f_function(swapped[4:], k2)\n",
    "    fk2_xor = xor(swapped[:4], fk2)\n",
    "    \n",
    "    ciphertext = permute(fk2_xor + fk2, final_permutation)\n",
    "    \n",
    "    return ciphertext\n",
    "\n",
    "def main():\n",
    "    plaintext = \"00101000\"\n",
    "    k1 = \"11101001\"\n",
    "    k2 = \"10100111\"\n",
    "\n",
    "    ciphertext = encrypt(plaintext, k1, k2)\n",
    "    print(\"Cipher Text:\", ciphertext)\n",
    "\n",
    "if __name__ == \"__main__\":\n",
    "    main()"
   ]
  },
  {
   "cell_type": "code",
   "execution_count": null,
   "id": "13fc349f-7ba8-48e5-a91f-99d3b1e9c1b4",
   "metadata": {},
   "outputs": [],
   "source": []
  }
 ],
 "metadata": {
  "kernelspec": {
   "display_name": "Python 3 (ipykernel)",
   "language": "python",
   "name": "python3"
  },
  "language_info": {
   "codemirror_mode": {
    "name": "ipython",
    "version": 3
   },
   "file_extension": ".py",
   "mimetype": "text/x-python",
   "name": "python",
   "nbconvert_exporter": "python",
   "pygments_lexer": "ipython3",
   "version": "3.11.7"
  }
 },
 "nbformat": 4,
 "nbformat_minor": 5
}
