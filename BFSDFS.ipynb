{
 "cells": [
  {
   "cell_type": "code",
   "execution_count": 3,
   "id": "9c0388c9-b89f-4898-b796-bc05c9726497",
   "metadata": {},
   "outputs": [
    {
     "name": "stdin",
     "output_type": "stream",
     "text": [
      "Enter the number of nodes:  6\n",
      "Enter node 1:  A\n",
      "Enter neighbors of node A separated by spaces:  B C\n",
      "Enter node 2:  B\n",
      "Enter neighbors of node B separated by spaces:  D E\n",
      "Enter node 3:  C\n",
      "Enter neighbors of node C separated by spaces:  F\n",
      "Enter node 4:  D\n",
      "Enter neighbors of node D separated by spaces:  \n",
      "Enter node 5:  E\n",
      "Enter neighbors of node E separated by spaces:  F\n",
      "Enter node 6:  F\n",
      "Enter neighbors of node F separated by spaces:  \n"
     ]
    },
    {
     "name": "stdout",
     "output_type": "stream",
     "text": [
      "A B C D E F \n",
      "A\n",
      "B\n",
      "D\n",
      "E\n",
      "F\n",
      "C\n"
     ]
    }
   ],
   "source": [
    "# BFS\n",
    "def create_graph():\n",
    "    graph = {}\n",
    "    nodes = int(input(\"Enter the number of nodes: \"))\n",
    "    for i in range(nodes):\n",
    "        node = input(f\"Enter node {i + 1}: \")\n",
    "        neighbors = input(f\"Enter neighbors of node {node} separated by spaces: \").split()\n",
    "        graph[node] = neighbors\n",
    "    return graph\n",
    "\n",
    "visited_bfs = []\n",
    "queue_bfs = []\n",
    "\n",
    "def bfs(visited, graph, node):\n",
    "    visited.append(node)\n",
    "    queue = [node]\n",
    "    while queue:\n",
    "        s = queue.pop(0)\n",
    "        print(s, end=\" \")\n",
    "        for neighbour in graph[s]:\n",
    "            if neighbour not in visited:\n",
    "                visited.append(neighbour)\n",
    "                queue.append(neighbour)\n",
    "\n",
    "graph_bfs = create_graph()\n",
    "bfs(visited_bfs, graph_bfs, 'A')\n",
    "print()\n",
    "\n",
    "# Output: A B C D E F\n",
    "\n",
    "# DFS\n",
    "graph_dfs = {\n",
    "    'A': ['B', 'C'],\n",
    "    'B': ['D', 'E'],\n",
    "    'C': ['F'],\n",
    "    'D': [],\n",
    "    'E': ['F'],\n",
    "    'F': []\n",
    "}\n",
    "visited_dfs = []\n",
    "\n",
    "def dfs(visited, graph, node):\n",
    "    if node not in visited:\n",
    "        print(node)\n",
    "        visited.append(node)\n",
    "        for neighbour in graph[node]:\n",
    "            dfs(visited, graph, neighbour)\n",
    "\n",
    "dfs(visited_dfs, graph_dfs, 'A')"
   ]
  },
  {
   "cell_type": "code",
   "execution_count": null,
   "id": "32f2454c-65f6-4cc5-aad6-11d7d4470bee",
   "metadata": {},
   "outputs": [],
   "source": []
  }
 ],
 "metadata": {
  "kernelspec": {
   "display_name": "Python 3 (ipykernel)",
   "language": "python",
   "name": "python3"
  },
  "language_info": {
   "codemirror_mode": {
    "name": "ipython",
    "version": 3
   },
   "file_extension": ".py",
   "mimetype": "text/x-python",
   "name": "python",
   "nbconvert_exporter": "python",
   "pygments_lexer": "ipython3",
   "version": "3.11.7"
  }
 },
 "nbformat": 4,
 "nbformat_minor": 5
}
