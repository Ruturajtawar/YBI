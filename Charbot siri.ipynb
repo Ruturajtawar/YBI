{
 "cells": [
  {
   "cell_type": "code",
   "execution_count": 6,
   "id": "535e9c85-0feb-43ec-ae90-016158264e33",
   "metadata": {},
   "outputs": [
    {
     "name": "stdout",
     "output_type": "stream",
     "text": [
      "Hi, my name is Siri.\n",
      "I was created in 1999.\n",
      "Please, remind me your name.\n"
     ]
    },
    {
     "name": "stdin",
     "output_type": "stream",
     "text": [
      " szc\n"
     ]
    },
    {
     "name": "stdout",
     "output_type": "stream",
     "text": [
      "What a great name you have starting with lovely character, szc !\n",
      "Let me guess your age.\n",
      "Enter remainders of dividing your age by 3, 5, and 7.\n"
     ]
    },
    {
     "name": "stdin",
     "output_type": "stream",
     "text": [
      " 3\n",
      " 8\n",
      " 0\n"
     ]
    },
    {
     "name": "stdout",
     "output_type": "stream",
     "text": [
      "Your age is 63; you are too young to that is good time to start programming!\n",
      "Now I will prove to you that I can count to any number you want.\n"
     ]
    },
    {
     "name": "stdin",
     "output_type": "stream",
     "text": [
      " 5\n"
     ]
    },
    {
     "name": "stdout",
     "output_type": "stream",
     "text": [
      "1\n",
      "2\n",
      "3\n",
      "4\n",
      "5\n",
      "Enter a number to check if it's even or odd:\n"
     ]
    },
    {
     "name": "stdin",
     "output_type": "stream",
     "text": [
      " 8\n"
     ]
    },
    {
     "name": "stdout",
     "output_type": "stream",
     "text": [
      "The number is even.\n",
      "Let's do some simple math.\n",
      "Enter two numbers:\n"
     ]
    },
    {
     "name": "stdin",
     "output_type": "stream",
     "text": [
      " 5\n",
      " 8\n"
     ]
    },
    {
     "name": "stdout",
     "output_type": "stream",
     "text": [
      "Sum: 13\n",
      "Difference: -3\n",
      "Product: 40\n",
      "Let's test your programming knowledge.\n",
      "Why do we use methods?\n",
      "1. To repeat a statement multiple times.\n",
      "2. To decompose a program into several small subroutines.\n",
      "3. To determine the execution of a program.\n",
      "4. To interrupt the execution of a program.\n"
     ]
    },
    {
     "name": "stdin",
     "output_type": "stream",
     "text": [
      " 2\n"
     ]
    },
    {
     "name": "stdout",
     "output_type": "stream",
     "text": [
      "Correct.......!\n",
      "Congratulations, have a nice day!\n"
     ]
    }
   ],
   "source": [
    "def greet(bot_name, birth_year):\n",
    "    print(\"Hi, my name is {0}.\".format(bot_name))\n",
    "    print(\"I was created in {0}.\".format(birth_year))\n",
    "\n",
    "\n",
    "def remind_name():\n",
    "    print('Please, remind me your name.')\n",
    "    name = input()\n",
    "    print('What a great name you have starting with lovely character, {0} !'.format(name))\n",
    "\n",
    "\n",
    "def guess_age():\n",
    "    print('Let me guess your age.')\n",
    "    print('Enter remainders of dividing your age by 3, 5, and 7.')\n",
    "    rem3 = int(input())\n",
    "    rem5 = int(input())\n",
    "    rem7 = int(input())\n",
    "    age = (rem3 * 70 + rem5 * 21 + rem7 * 15) % 105      #forumla\n",
    "    print(\"Your age is {0}; you are too young to that is good time to start programming!\".format(age))\n",
    "\n",
    "\n",
    "def count():\n",
    "    print('Now I will prove to you that I can count to any number you want.')\n",
    "    num = int(input())\n",
    "    counter = 1\n",
    "    while counter <= num:\n",
    "        print(\"{0}\".format(counter))\n",
    "        counter += 1\n",
    "\n",
    "\n",
    "def check_even_odd():\n",
    "    print(\"Enter a number to check if it's even or odd:\")\n",
    "    num = int(input())\n",
    "    if num % 2 == 0:\n",
    "        print(\"The number is even.\")\n",
    "    else:\n",
    "        print(\"The number is odd.\")\n",
    "\n",
    "\n",
    "def simple_math():\n",
    "    print(\"Let's do some simple math.\")\n",
    "    print(\"Enter two numbers:\")\n",
    "    num1 = int(input())\n",
    "    num2 = int(input())\n",
    "    print(\"Sum:\", num1 + num2)\n",
    "    print(\"Difference:\", num1 - num2)\n",
    "    print(\"Product:\", num1 * num2)\n",
    "\n",
    "\n",
    "def test():\n",
    "    print(\"Let's test your programming knowledge.\")\n",
    "    print(\"Why do we use methods?\")\n",
    "    print(\"1. To repeat a statement multiple times.\")\n",
    "    print(\"2. To decompose a program into several small subroutines.\")\n",
    "    print(\"3. To determine the execution of a program.\")\n",
    "    print(\"4. To interrupt the execution of a program.\")\n",
    "    answer = 2\n",
    "    guess = int(input())\n",
    "    while guess != answer:\n",
    "        print(\"Please, try again.\")\n",
    "        guess = int(input())\n",
    "    print(\"Correct.......!\")\n",
    "\n",
    "\n",
    "def end():\n",
    "    print(\"Congratulations, have a nice day!\")\n",
    "\n",
    "greet('Siri', '1999')\n",
    "remind_name()\n",
    "guess_age()\n",
    "count()\n",
    "check_even_odd()\n",
    "simple_math()\n",
    "test()\n",
    "end()"
   ]
  },
  {
   "cell_type": "code",
   "execution_count": null,
   "id": "1d534f3f-05d1-40ca-86d0-537d759a038f",
   "metadata": {},
   "outputs": [],
   "source": []
  }
 ],
 "metadata": {
  "kernelspec": {
   "display_name": "Python 3 (ipykernel)",
   "language": "python",
   "name": "python3"
  },
  "language_info": {
   "codemirror_mode": {
    "name": "ipython",
    "version": 3
   },
   "file_extension": ".py",
   "mimetype": "text/x-python",
   "name": "python",
   "nbconvert_exporter": "python",
   "pygments_lexer": "ipython3",
   "version": "3.11.7"
  }
 },
 "nbformat": 4,
 "nbformat_minor": 5
}
