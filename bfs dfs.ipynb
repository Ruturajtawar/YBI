{
 "cells": [
  {
   "cell_type": "code",
   "execution_count": 1,
   "id": "a1d2a103-fc4d-42e3-9da9-d2c6ba2fa784",
   "metadata": {},
   "outputs": [
    {
     "name": "stdout",
     "output_type": "stream",
     "text": [
      "DFS traversal starting from vertex 'A':\n",
      "A\n",
      "B\n",
      "D\n",
      "E\n",
      "C\n",
      "F\n",
      "G\n"
     ]
    }
   ],
   "source": [
    "graph = {\n",
    "    'A': ['B', 'C'],\n",
    "    'B': ['A', 'D', 'E'],\n",
    "    'C': ['A', 'F', 'G'],\n",
    "    'D': ['B'],\n",
    "    'E': ['B'],\n",
    "    'F': ['C'],\n",
    "    'G': ['C']\n",
    "}\n",
    "visited = set()\n",
    "\n",
    "def dfs(visited, graph, node):\n",
    "    if node not in visited:\n",
    "     print(node)\n",
    "     visited.add(node)\n",
    "     for neighbour in graph[node]:\n",
    "      if neighbour not in visited:\n",
    "       dfs(visited, graph, neighbour)\n",
    "\n",
    "print(\"DFS traversal starting from vertex 'A':\")\n",
    "dfs(visited, graph, 'A')\n"
   ]
  },
  {
   "cell_type": "code",
   "execution_count": 3,
   "id": "d56d7077-8d34-46a3-8bc1-5c097bbb9d2c",
   "metadata": {},
   "outputs": [
    {
     "name": "stdout",
     "output_type": "stream",
     "text": [
      "A B C D E F G \n"
     ]
    }
   ],
   "source": [
    "# BFS\n",
    "graph_bfs = {\n",
    "     'A': ['B', 'C'],\n",
    "    'B': ['A', 'D', 'E'],\n",
    "    'C': ['A', 'F', 'G'],\n",
    "    'D': ['B'],\n",
    "    'E': ['B'],\n",
    "    'F': ['C'],\n",
    "    'G': ['C']\n",
    "}\n",
    "visited_bfs = []\n",
    "queue_bfs = []\n",
    "\n",
    "def bfs(visited, graph, node):\n",
    "    visited.append(node)\n",
    "    queue = [node]\n",
    "    while queue:\n",
    "        s = queue.pop(0)\n",
    "        print(s, end=\" \")\n",
    "        for neighbour in graph[s]:\n",
    "            if neighbour not in visited:\n",
    "                visited.append(neighbour)\n",
    "                queue.append(neighbour)\n",
    "\n",
    "bfs(visited_bfs, graph_bfs, 'A')\n",
    "print()\n"
   ]
  },
  {
   "cell_type": "code",
   "execution_count": null,
   "id": "bb6e690e-20c6-43f0-9738-59d2bbd8043d",
   "metadata": {},
   "outputs": [],
   "source": []
  }
 ],
 "metadata": {
  "kernelspec": {
   "display_name": "Python 3 (ipykernel)",
   "language": "python",
   "name": "python3"
  },
  "language_info": {
   "codemirror_mode": {
    "name": "ipython",
    "version": 3
   },
   "file_extension": ".py",
   "mimetype": "text/x-python",
   "name": "python",
   "nbconvert_exporter": "python",
   "pygments_lexer": "ipython3",
   "version": "3.11.7"
  }
 },
 "nbformat": 4,
 "nbformat_minor": 5
}
