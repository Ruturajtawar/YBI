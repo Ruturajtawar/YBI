{
 "cells": [
  {
   "cell_type": "code",
   "execution_count": 1,
   "id": "7c72eb22-694c-42c2-b721-1b7cd4eaaba7",
   "metadata": {},
   "outputs": [
    {
     "name": "stdout",
     "output_type": "stream",
     "text": [
      "path found ['Home', 'Bank', 'Police Station', 'University']\n",
      "['Home', 'Bank', 'Police Station', 'University']\n"
     ]
    }
   ],
   "source": [
    "def A_Star(initial_node, goal_node):\n",
    "    OPEN = {initial_node}  # Fix: use curly braces for a set\n",
    "    CLOSED = set()\n",
    "    g = {}  # store distance from starting node to current node\n",
    "    parents = {}  # parents contain an adjacency map of all nodes\n",
    "    g[initial_node] = 0\n",
    "    parents[initial_node] = initial_node\n",
    "\n",
    "    while OPEN:\n",
    "        n=min(OPEN,key=lambda x:g[x]+heuristic(x))\n",
    "        if n == goal_node or not Graph_nodes[n]:\n",
    "            break\n",
    "        OPEN.remove(n)\n",
    "        CLOSED.add(n)\n",
    "        for m,weight in get_neighbors(n):\n",
    "            if m in CLOSED:\n",
    "                continue\n",
    "            g_tentative=g[n]+weight\n",
    "            if m not in OPEN:\n",
    "                OPEN.add(m)\n",
    "            elif g_tentative >= g.get(m,float('inf')):\n",
    "                continue\n",
    "            parents[m]=n\n",
    "            g[m]=g_tentative\n",
    "\n",
    "    if not n or n !=goal_node:\n",
    "        print(\"path is not found\")    \n",
    "        return None\n",
    "    \n",
    "    path=[]\n",
    "    while n !=initial_node:\n",
    "        path.append(n)\n",
    "        n=parents[n]\n",
    "    path.append(initial_node)\n",
    "    path.reverse()\n",
    "    print(\"path found {}\".format(path))\n",
    "    return path\n",
    "\n",
    "\n",
    "def get_neighbors(v):\n",
    "    return Graph_nodes.get(v, [])\n",
    "\n",
    "def heuristic(n):\n",
    "    H_dist = {\n",
    "        'Home': 120,\n",
    "        'Bank': 80,\n",
    "        'Garden': 100,\n",
    "        'School': 70,\n",
    "        'Police Station': 26,\n",
    "        'Railway Station': 20,\n",
    "        'Post Office': 110,\n",
    "        'University': 0  # Add University with heuristic value\n",
    "    }\n",
    "    return H_dist.get(n, float('inf'))\n",
    "\n",
    "Graph_nodes = {\n",
    "    'Home': [('Bank', 45), ('Garden', 40), ('School', 50)],\n",
    "    'Bank': [('Police Station', 60)],\n",
    "    'Garden': [('Railway Station', 72)],\n",
    "    'School': [('Railway Station', 75), ('Post Office', 59)],\n",
    "    'Police Station': [('University', 28)],\n",
    "    'Railway Station': [('University', 40)],\n",
    "    'Post Office': [],\n",
    "    'University': []  # Add University with an empty list of neighbors\n",
    "}\n",
    "\n",
    "# Example usage\n",
    "path = A_Star('Home', 'University')\n",
    "print(path)"
   ]
  },
  {
   "cell_type": "code",
   "execution_count": null,
   "id": "c48a7b22-4d0f-45c5-9455-a9af930b1cb2",
   "metadata": {},
   "outputs": [],
   "source": []
  }
 ],
 "metadata": {
  "kernelspec": {
   "display_name": "Python 3 (ipykernel)",
   "language": "python",
   "name": "python3"
  },
  "language_info": {
   "codemirror_mode": {
    "name": "ipython",
    "version": 3
   },
   "file_extension": ".py",
   "mimetype": "text/x-python",
   "name": "python",
   "nbconvert_exporter": "python",
   "pygments_lexer": "ipython3",
   "version": "3.11.7"
  }
 },
 "nbformat": 4,
 "nbformat_minor": 5
}
