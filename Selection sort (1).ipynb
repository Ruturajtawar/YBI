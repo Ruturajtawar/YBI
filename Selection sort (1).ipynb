{
 "cells": [
  {
   "cell_type": "code",
   "execution_count": 2,
   "id": "a3576cb4-8412-4e2c-a452-104d08b19666",
   "metadata": {},
   "outputs": [
    {
     "name": "stdin",
     "output_type": "stream",
     "text": [
      "Enter the number of elements in the array:  6\n"
     ]
    },
    {
     "name": "stdout",
     "output_type": "stream",
     "text": [
      "Enter the elements of the array:\n"
     ]
    },
    {
     "name": "stdin",
     "output_type": "stream",
     "text": [
      " 8\n",
      " 9\n",
      " 5\n",
      " 3\n",
      " 5\n",
      " 7\n"
     ]
    },
    {
     "name": "stdout",
     "output_type": "stream",
     "text": [
      "Iteration 1: [3, 9, 5, 8, 5, 7]\n",
      "Iteration 2: [3, 5, 9, 8, 5, 7]\n",
      "Iteration 3: [3, 5, 5, 8, 9, 7]\n",
      "Iteration 4: [3, 5, 5, 7, 9, 8]\n",
      "Iteration 5: [3, 5, 5, 7, 8, 9]\n",
      "Iteration 6: [3, 5, 5, 7, 8, 9]\n",
      "Sorted array: [3, 5, 5, 7, 8, 9]\n"
     ]
    }
   ],
   "source": [
    "def selection_sort(arr):\n",
    "    n = len(arr)\n",
    "    for i in range(n):\n",
    "        min_idx = i\n",
    "        for j in range(i+1, n):\n",
    "            if arr[j] < arr[min_idx]:\n",
    "                min_idx = j\n",
    "        arr[i], arr[min_idx] = arr[min_idx], arr[i]\n",
    "        print(f\"Iteration {i+1}: {arr}\")\n",
    "\n",
    "\n",
    "# Take user input for array size\n",
    "n = int(input(\"Enter the number of elements in the array: \"))\n",
    "\n",
    "# Take user input for array elements\n",
    "arr = []\n",
    "print(\"Enter the elements of the array:\")\n",
    "for i in range(n):\n",
    "    arr.append(int(input()))\n",
    "\n",
    "# Call the selection_sort function\n",
    "selection_sort(arr)\n",
    "\n",
    "# Print the sorted array\n",
    "print(\"Sorted array:\", arr)"
   ]
  },
  {
   "cell_type": "code",
   "execution_count": null,
   "id": "8bdfce72-db4f-47b8-bf7a-cd8db131beae",
   "metadata": {},
   "outputs": [],
   "source": []
  }
 ],
 "metadata": {
  "kernelspec": {
   "display_name": "Python 3 (ipykernel)",
   "language": "python",
   "name": "python3"
  },
  "language_info": {
   "codemirror_mode": {
    "name": "ipython",
    "version": 3
   },
   "file_extension": ".py",
   "mimetype": "text/x-python",
   "name": "python",
   "nbconvert_exporter": "python",
   "pygments_lexer": "ipython3",
   "version": "3.11.7"
  }
 },
 "nbformat": 4,
 "nbformat_minor": 5
}
