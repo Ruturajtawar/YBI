{
 "cells": [
  {
   "cell_type": "code",
   "execution_count": null,
   "id": "8b7c54da-1e5c-4efd-a4a9-ba0a2a2f7cf6",
   "metadata": {},
   "outputs": [],
   "source": []
  },
  {
   "cell_type": "code",
   "execution_count": null,
   "id": "13fc349f-7ba8-48e5-a91f-99d3b1e9c1b4",
   "metadata": {},
   "outputs": [],
   "source": []
  },
  {
   "cell_type": "code",
   "execution_count": 23,
   "id": "133fb9f4-5a4f-4911-984a-a6f56d8159fb",
   "metadata": {},
   "outputs": [],
   "source": []
  },
  {
   "cell_type": "code",
   "execution_count": null,
   "id": "23a691b4-d8d6-4c05-9702-804fe4bb688f",
   "metadata": {},
   "outputs": [],
   "source": []
  },
  {
   "cell_type": "code",
   "execution_count": null,
   "id": "6414a89d-3767-4306-b98d-05b9277b5d85",
   "metadata": {},
   "outputs": [],
   "source": []
  },
  {
   "cell_type": "code",
   "execution_count": 44,
   "id": "82ae6544-fb67-49a4-b097-6fedc22e5cdc",
   "metadata": {},
   "outputs": [
    {
     "name": "stdout",
     "output_type": "stream",
     "text": [
      "encr1 =  00110010\n",
      "encr2 =  00010011\n",
      "Cipher Text =  10001010\n"
     ]
    }
   ],
   "source": [
    "ip = [2,6,3,1,4,8,5,7]\n",
    "ip1 = [4,1,3,5,7,2,8,6]\n",
    "\n",
    "s0 = [\n",
    "    [1,0,3,2],\n",
    "    [3,2,1,0],\n",
    "    [0,2,1,3],\n",
    "    [3,1,3,2]\n",
    "]\n",
    "\n",
    "s1 = [\n",
    "    [0,1,2,3],\n",
    "    [2,0,1,3],\n",
    "    [3,0,1,0],\n",
    "    [2,1,0,3]\n",
    "]\n",
    "\n",
    "EP = [4,1,2,3,2,3,4,1]\n",
    "p4 = [2,4,3,1]\n",
    "\n",
    "def permutatioins(key,permutation):\n",
    "    temp = ''\n",
    "    for i in range(len(permutation)):\n",
    "        temp = temp+key[permutation[i]-1]\n",
    "    return temp\n",
    "\n",
    "def xor(first,second):\n",
    "    n = len(first)\n",
    "    temp =''\n",
    "    for i in range(n):\n",
    "        temp = temp + str(int(first[i]) ^ int(second[i]))\n",
    "    return temp\n",
    "        \n",
    "def Encrypt(leftPart,rightPart,key):\n",
    "    \n",
    "    epRight1 = permutatioins(rightPart,EP)  \n",
    "    xorEpRightKey = xor(epRight1,key)\n",
    "    \n",
    "    left = xorEpRightKey[:4]\n",
    "    right = xorEpRightKey[4:]\n",
    "    \n",
    "    leftRow = left[0] + left[3]\n",
    "    leftRow = int(leftRow,2)\n",
    "    leftCol = left[1:3]\n",
    "    leftCol = int(leftCol,2)\n",
    "    \n",
    "    rightRow = right[0]+ right[3]\n",
    "    rightRow = int(rightRow,2)\n",
    "    rightCol =right[1:3]\n",
    "    rightCol = int(rightCol,2)\n",
    "    \n",
    "    s01 = format(s0[leftRow][leftCol],'02b')\n",
    "    s11 = format(s1[rightRow][rightCol],'02b')\n",
    "\n",
    "    combine = s01 + s11\n",
    "    combineP4 = permutatioins(combine,p4)\n",
    "    combineP4Xor = xor(leftPart,combineP4)\n",
    "    encr1 = combineP4Xor + rightPart\n",
    "\n",
    "    return encr1\n",
    "        \n",
    "def encryption(plain,key1,key2):\n",
    "    plainText = plain\n",
    "    initPerPT = permutatioins(plainText,ip)\n",
    "\n",
    "    leftPart = initPerPT[:int(len(initPerPT)/2)]\n",
    "    rightPart = initPerPT[int(len(initPerPT)/2):]\n",
    "\n",
    "    encr1=Encrypt(leftPart,rightPart,key1)\n",
    "    print(\"encr1 = \",encr1)\n",
    "    leftPart = encr1[4:]\n",
    "    rightPart = encr1[:4]\n",
    "    encr2=Encrypt(leftPart,rightPart,key2)\n",
    "    print(\"encr2 = \",encr2)\n",
    "    cipherText = permutatioins(encr2,ip1)\n",
    "    print(\"Cipher Text = \",cipherText)\n",
    "    \n",
    "\n",
    "if __name__ == \"__main__\":\n",
    "    plain = '00101000'\n",
    "    key1 = '11101001'\n",
    "    key2 = '10100111'\n",
    "    encryption(plain,key1,key2)"
   ]
  },
  {
   "cell_type": "code",
   "execution_count": null,
   "id": "c112af25-a584-4162-bd58-5f2eda1956c6",
   "metadata": {},
   "outputs": [],
   "source": []
  }
 ],
 "metadata": {
  "kernelspec": {
   "display_name": "Python 3 (ipykernel)",
   "language": "python",
   "name": "python3"
  },
  "language_info": {
   "codemirror_mode": {
    "name": "ipython",
    "version": 3
   },
   "file_extension": ".py",
   "mimetype": "text/x-python",
   "name": "python",
   "nbconvert_exporter": "python",
   "pygments_lexer": "ipython3",
   "version": "3.11.7"
  }
 },
 "nbformat": 4,
 "nbformat_minor": 5
}
