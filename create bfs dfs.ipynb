{
 "cells": [
  {
   "cell_type": "code",
   "execution_count": 6,
   "id": "5c6067ee-bf89-49c9-a62e-c9475c4fd206",
   "metadata": {},
   "outputs": [
    {
     "name": "stdin",
     "output_type": "stream",
     "text": [
      "Enter the number of nodes:  6\n",
      "Enter node 1:  A\n",
      "Enter neighbors of node A separated by spaces:  B C\n",
      "Enter node 2:  B\n",
      "Enter neighbors of node B separated by spaces:  D E\n",
      "Enter node 3:  C\n",
      "Enter neighbors of node C separated by spaces:  F\n",
      "Enter node 4:  D\n",
      "Enter neighbors of node D separated by spaces:  \n",
      "Enter node 5:  E\n",
      "Enter neighbors of node E separated by spaces:  F\n",
      "Enter node 6:  F\n",
      "Enter neighbors of node F separated by spaces:  \n"
     ]
    },
    {
     "name": "stdout",
     "output_type": "stream",
     "text": [
      "A B C D E F \n"
     ]
    }
   ],
   "source": [
    "# BFS\n",
    "def create_graph():\n",
    "    graph = {}\n",
    "    nodes = int(input(\"Enter the number of nodes: \"))\n",
    "    for i in range(nodes):\n",
    "        node = input(f\"Enter node {i + 1}: \")\n",
    "        neighbors = input(f\"Enter neighbors of node {node} separated by spaces: \").split()\n",
    "        graph[node] = neighbors\n",
    "    return graph\n",
    "\n",
    "visited_bfs = []\n",
    "queue_bfs = []\n",
    "\n",
    "def bfs(visited, graph, node):\n",
    "    visited.append(node)\n",
    "    queue = [node]\n",
    "    while queue:\n",
    "        s = queue.pop(0)\n",
    "        print(s, end=\" \")\n",
    "        for neighbour in graph[s]:\n",
    "            if neighbour not in visited:\n",
    "                visited.append(neighbour)\n",
    "                queue.append(neighbour)\n",
    "\n",
    "graph_bfs = create_graph()\n",
    "bfs(visited_bfs, graph_bfs, 'A')\n",
    "print()"
   ]
  },
  {
   "cell_type": "code",
   "execution_count": 13,
   "id": "02e90a64-3df7-437e-aafb-d5b579faa202",
   "metadata": {},
   "outputs": [
    {
     "name": "stdout",
     "output_type": "stream",
     "text": [
      "DFS traversal starting from vertex 'A':\n",
      "A\n",
      "B\n",
      "D\n",
      "E\n",
      "F\n",
      "C\n"
     ]
    }
   ],
   "source": [
    "graph = {\n",
    "    'A': ['B', 'C'],\n",
    "    'B': ['D', 'E'],\n",
    "    'C': ['F'],\n",
    "    'D': [],\n",
    "    'E': ['F'],\n",
    "    'F': []\n",
    "}\n",
    "visited = set()\n",
    "\n",
    "def dfs(visited, graph, node):\n",
    "    if node not in visited:\n",
    "     print(node)\n",
    "     visited.add(node)\n",
    "     for neighbour in graph[node]:\n",
    "      if neighbour not in visited:\n",
    "       dfs(visited, graph, neighbour)\n",
    "\n",
    "print(\"DFS traversal starting from vertex 'A':\")\n",
    "dfs(visited, graph, 'A')"
   ]
  },
  {
   "cell_type": "code",
   "execution_count": 18,
   "id": "7c1a0e9e-0125-4b85-bb67-92068d795ae1",
   "metadata": {},
   "outputs": [
    {
     "name": "stdin",
     "output_type": "stream",
     "text": [
      "Enter the number of nodes:  6\n",
      "Enter node 1:  A\n",
      "Enter neighbors of node A separated by spaces:  B C\n",
      "Enter node 2:  B\n",
      "Enter neighbors of node B separated by spaces:  D E \n",
      "Enter node 3:  C\n",
      "Enter neighbors of node C separated by spaces:  F\n",
      "Enter node 4:  D\n",
      "Enter neighbors of node D separated by spaces:  \n",
      "Enter node 5:  E\n",
      "Enter neighbors of node E separated by spaces:  F\n",
      "Enter node 6:  F\n",
      "Enter neighbors of node F separated by spaces:  \n"
     ]
    },
    {
     "name": "stdout",
     "output_type": "stream",
     "text": [
      "A\n"
     ]
    },
    {
     "ename": "AttributeError",
     "evalue": "'list' object has no attribute 'add'",
     "output_type": "error",
     "traceback": [
      "\u001b[1;31m---------------------------------------------------------------------------\u001b[0m",
      "\u001b[1;31mAttributeError\u001b[0m                            Traceback (most recent call last)",
      "Cell \u001b[1;32mIn[18], line 22\u001b[0m\n\u001b[0;32m     19\u001b[0m        dfs(visited, graph, neighbour)\n\u001b[0;32m     21\u001b[0m graph_dfs \u001b[38;5;241m=\u001b[39m create_graph()\n\u001b[1;32m---> 22\u001b[0m dfs(visited_dfs, graph_dfs, \u001b[38;5;124m'\u001b[39m\u001b[38;5;124mA\u001b[39m\u001b[38;5;124m'\u001b[39m)\n\u001b[0;32m     23\u001b[0m \u001b[38;5;28mprint\u001b[39m()\n",
      "Cell \u001b[1;32mIn[18], line 16\u001b[0m, in \u001b[0;36mdfs\u001b[1;34m(visited, graph, node)\u001b[0m\n\u001b[0;32m     14\u001b[0m \u001b[38;5;28;01mif\u001b[39;00m node \u001b[38;5;129;01mnot\u001b[39;00m \u001b[38;5;129;01min\u001b[39;00m visited:\n\u001b[0;32m     15\u001b[0m  \u001b[38;5;28mprint\u001b[39m(node)\n\u001b[1;32m---> 16\u001b[0m  visited\u001b[38;5;241m.\u001b[39madd(node)\n\u001b[0;32m     17\u001b[0m  \u001b[38;5;28;01mfor\u001b[39;00m neighbour \u001b[38;5;129;01min\u001b[39;00m graph[node]:\n\u001b[0;32m     18\u001b[0m   \u001b[38;5;28;01mif\u001b[39;00m neighbour \u001b[38;5;129;01mnot\u001b[39;00m \u001b[38;5;129;01min\u001b[39;00m visited:\n",
      "\u001b[1;31mAttributeError\u001b[0m: 'list' object has no attribute 'add'"
     ]
    }
   ],
   "source": [
    "def create_graph():\n",
    "    graph = {}\n",
    "    nodes = int(input(\"Enter the number of nodes: \"))\n",
    "    for i in range(nodes):\n",
    "        node = input(f\"Enter node {i + 1}: \")\n",
    "        neighbors = input(f\"Enter neighbors of node {node} separated by spaces: \").split()\n",
    "        graph[node] = neighbors\n",
    "    return graph\n",
    "\n",
    "visited_dfs = []\n",
    "queue_dfs = []\n",
    "\n",
    "def dfs(visited, graph, node):\n",
    "    if node not in visited:\n",
    "     print(node)\n",
    "     visited.add(node)\n",
    "     for neighbour in graph[node]:\n",
    "      if neighbour not in visited:\n",
    "       dfs(visited, graph, neighbour)\n",
    "\n",
    "graph_dfs = create_graph()\n",
    "dfs(visited_dfs, graph_dfs, 'A')\n",
    "print()"
   ]
  },
  {
   "cell_type": "code",
   "execution_count": null,
   "id": "14408678-809a-4055-b24b-5ff8a61c5765",
   "metadata": {},
   "outputs": [],
   "source": []
  }
 ],
 "metadata": {
  "kernelspec": {
   "display_name": "Python 3 (ipykernel)",
   "language": "python",
   "name": "python3"
  },
  "language_info": {
   "codemirror_mode": {
    "name": "ipython",
    "version": 3
   },
   "file_extension": ".py",
   "mimetype": "text/x-python",
   "name": "python",
   "nbconvert_exporter": "python",
   "pygments_lexer": "ipython3",
   "version": "3.11.7"
  }
 },
 "nbformat": 4,
 "nbformat_minor": 5
}
